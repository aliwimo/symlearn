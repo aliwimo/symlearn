{
 "cells": [
  {
   "cell_type": "code",
   "execution_count": null,
   "metadata": {},
   "outputs": [],
   "source": [
    "import numpy as np\n",
    "import pandas as pd\n",
    "from sklearn.metrics import explained_variance_score\n",
    "from parameters import Parameters\n",
    "from methods import Methods\n",
    "from functions import *\n",
    "from errors import *\n",
    "from random import random"
   ]
  },
  {
   "cell_type": "code",
   "execution_count": null,
   "metadata": {},
   "outputs": [],
   "source": [
    "np.seterr(all='ignore')"
   ]
  },
  {
   "cell_type": "code",
   "execution_count": null,
   "metadata": {},
   "outputs": [],
   "source": [
    "# load dataset\n",
    "df = pd.read_csv('btc_usd.csv')\n",
    "df.head()\n",
    "# df = df.to_numpy()\n",
    "# X = df[:, [i for i in range(10)]]\n",
    "# y = df[:, 10]"
   ]
  },
  {
   "cell_type": "code",
   "execution_count": null,
   "metadata": {},
   "outputs": [],
   "source": [
    "df['Date'] = pd.to_datetime(df['Date'])\n",
    "df['PastWeekOpen'] = df['Close'].shift(1)\n",
    "df['PastWeekHigh'] = df['High'].shift(0)\n",
    "df['PastWeekLow'] = df['Low'].shift(0)\n",
    "# df = df.drop(columns=['Open', 'High', 'Low', 'Adj Close', 'Volume'])\n",
    "df = df.drop(columns=['Open', 'High', 'Low', 'Adj Close'])\n",
    "df.head()"
   ]
  },
  {
   "cell_type": "code",
   "execution_count": null,
   "metadata": {},
   "outputs": [],
   "source": [
    "train_mask = (df['Date'] >= '2021-6-1') & (df['Date'] <= '2021-12-31')\n",
    "train_df = df.loc[train_mask]\n",
    "train_df.head()"
   ]
  },
  {
   "cell_type": "code",
   "execution_count": null,
   "metadata": {},
   "outputs": [],
   "source": [
    "test_mask = (df['Date'] >= '2022-1-1') & (df['Date'] <= '2022-2-19')\n",
    "test_df = df.loc[test_mask]\n",
    "test_df.head()"
   ]
  },
  {
   "cell_type": "code",
   "execution_count": null,
   "metadata": {},
   "outputs": [],
   "source": [
    "X_train = train_df[['PastWeekOpen', 'PastWeekHigh', 'PastWeekLow']]\n",
    "# X_train = train_df[['PastWeekHigh', 'PastWeekLow', 'Volume']]\n",
    "y_train = train_df['Close']\n",
    "date_train = train_df['Date']\n",
    "X_test = test_df[['PastWeekOpen', 'PastWeekHigh', 'PastWeekLow']]\n",
    "# X_test = test_df[['PastWeekHigh', 'PastWeekLow', 'Volume']]\n",
    "y_test = test_df['Close']\n",
    "date_test = test_df['Date']"
   ]
  },
  {
   "cell_type": "code",
   "execution_count": null,
   "metadata": {},
   "outputs": [],
   "source": [
    "# X_train.head()\n",
    "# y_train.head()\n",
    "# X_test.head()\n",
    "y_test.head()"
   ]
  },
  {
   "cell_type": "code",
   "execution_count": null,
   "metadata": {},
   "outputs": [],
   "source": [
    "# convert to numpy objects\n",
    "X_train = X_train.to_numpy()\n",
    "y_train = y_train.to_numpy()\n",
    "X_test = X_test.to_numpy()\n",
    "y_test = y_test.to_numpy()"
   ]
  },
  {
   "cell_type": "code",
   "execution_count": null,
   "metadata": {},
   "outputs": [],
   "source": [
    "Parameters.CONSTANTS = [-5, 5]\n",
    "# Parameters.CONSTANTS = [1, 10]\n",
    "Parameters.FEATURES = X_train.shape[1]\n",
    "Parameters.CONSTANTS_TYPE = 'range'\n",
    "# Parameters.CONSTANTS_TYPE = 'integer'\n",
    "# expressions = [Add, Sub, Mul, Div, Sin, Cos, Rlog, Exp, Pow]\n",
    "expressions = [Add, Sub, Mul, Div]\n",
    "terminals = [Variable, Constant]"
   ]
  },
  {
   "cell_type": "code",
   "execution_count": null,
   "metadata": {},
   "outputs": [],
   "source": [
    "from fp import FP\n",
    "model = FP(pop_size=50,\n",
    "        alpha=0.1,\n",
    "        beta=0.5,\n",
    "        gamma=1.0,\n",
    "        max_evaluations=2000,\n",
    "        initial_min_depth=0,\n",
    "        initial_max_depth=6,\n",
    "        max_depth=15,\n",
    "        error_function=RMSE,\n",
    "        expressions=expressions,\n",
    "        terminals=terminals,\n",
    "        target_error=0,\n",
    "        verbose=True\n",
    "        )\n",
    "\n",
    "model.fit(X_train, y_train)"
   ]
  },
  {
   "cell_type": "code",
   "execution_count": null,
   "metadata": {},
   "outputs": [],
   "source": [
    "y_fit = model.predict(X_train)\n",
    "y_pred = model.predict(X_test)\n",
    "train_score = explained_variance_score(y_train, y_fit)\n",
    "test_score = explained_variance_score(y_test, y_pred)\n",
    "print('Train score: {}'.format(train_score))\n",
    "print('Test score: {}'.format(test_score))"
   ]
  },
  {
   "cell_type": "code",
   "execution_count": null,
   "metadata": {},
   "outputs": [],
   "source": [
    "%pylab inline\n",
    "import matplotlib.pyplot as plt\n",
    "pylab.rcParams['figure.figsize'] = (20, 8)\n",
    "ax = plt.axes()\n",
    "ax.grid(linestyle=':', linewidth=1, alpha=1, zorder=1)\n",
    "plt.ylabel(\"Price ($)\")\n",
    "line = [None, None, None, None]\n",
    "line[0], = ax.plot(date_train, y_train, linestyle=':', color='black', linewidth=0.7, zorder=2, label='Targeted')    \n",
    "line[1], = ax.plot(date_train, y_fit, linestyle='-', color='red', linewidth=0.7, zorder=3, label='Trained')\n",
    "line[2], = ax.plot(date_test, y_test, linestyle=':', color='black', linewidth=0.7, zorder=2)\n",
    "line[3], = ax.plot(date_test, y_pred, linestyle='-', color='blue', linewidth=0.7, zorder=3, label='Predected')\n",
    "plt.draw()\n",
    "plt.legend()\n",
    "plt.show()"
   ]
  },
  {
   "cell_type": "code",
   "execution_count": null,
   "metadata": {},
   "outputs": [],
   "source": [
    "from dfp import DFP\n",
    "dfp_model = DFP(pop_size=50,\n",
    "        alpha=0.01,\n",
    "        beta=0.05,\n",
    "        gamma=0.1,\n",
    "        max_evaluations=20000,\n",
    "        initial_min_depth=0,\n",
    "        initial_max_depth=6,\n",
    "        max_depth=15,\n",
    "        error_function=IR2,\n",
    "        expressions=expressions,\n",
    "        terminals=terminals,\n",
    "        target_error=0,\n",
    "        verbose=True\n",
    "        )\n",
    "\n",
    "dfp_model.fit(X_train, y_train)"
   ]
  },
  {
   "cell_type": "code",
   "execution_count": null,
   "metadata": {},
   "outputs": [],
   "source": [
    "dfp_y_fit = dfp_model.predict(X_train)\n",
    "dfp_y_pred = dfp_model.predict(X_test)\n",
    "dfp_train_score = explained_variance_score(y_train, dfp_y_fit)\n",
    "dfp_test_score = explained_variance_score(y_test, dfp_y_pred)\n",
    "print('Train score: {}'.format(dfp_train_score))\n",
    "print('Test score: {}'.format(dfp_test_score))"
   ]
  },
  {
   "cell_type": "code",
   "execution_count": null,
   "metadata": {},
   "outputs": [],
   "source": [
    "# example of calculate the mean squared error\n",
    "from sklearn.metrics import mean_squared_error\n",
    "from sklearn.metrics import mean_absolute_error\n",
    "from sklearn.metrics import r2_score\n",
    "from sklearn.metrics import explained_variance_score\n",
    "from sklearn.metrics import max_error\n",
    "from sklearn.metrics import median_absolute_error\n",
    "from sklearn.metrics import mean_poisson_deviance\n",
    "\n",
    "print('Train RMSE: ', mean_squared_error(y_train, dfp_y_fit, squared=False) )\n",
    "print('Train R2: ', r2_score(y_train, dfp_y_fit) )\n",
    "\n",
    "print('Test RMSE: ', mean_squared_error(y_test, dfp_y_pred, squared=False) )\n",
    "print('Test R2: ', r2_score(y_test, dfp_y_pred) )\n"
   ]
  },
  {
   "cell_type": "code",
   "execution_count": null,
   "metadata": {},
   "outputs": [],
   "source": [
    "ax = plt.axes()\n",
    "ax.grid(linestyle=':', linewidth=1, alpha=1, zorder=1)\n",
    "plt.ylabel(\"Price ($)\")\n",
    "line = [None, None, None, None]\n",
    "line[0], = ax.plot(date_train, y_train, linestyle=':', color='black', linewidth=0.7, zorder=2, label='Targeted')    \n",
    "line[1], = ax.plot(date_train, dfp_y_fit, linestyle='-', color='red', linewidth=0.7, zorder=3, label='Trained')\n",
    "line[2], = ax.plot(date_test, y_test, linestyle=':', color='black', linewidth=0.7, zorder=2)\n",
    "line[3], = ax.plot(date_test, dfp_y_pred, linestyle='-', color='blue', linewidth=0.7, zorder=3, label='Predected')\n",
    "plt.axvline(x=date_test.iloc[0], linestyle='-', color='black', linewidth='1')\n",
    "plt.draw()\n",
    "plt.legend()\n",
    "plt.show()"
   ]
  }
 ],
 "metadata": {
  "interpreter": {
   "hash": "21d68c27effd80841957bb70186093b6ae13ff883409a00a11a531309119febe"
  },
  "kernelspec": {
   "display_name": "Python 3.9.5 64-bit",
   "language": "python",
   "name": "python3"
  },
  "language_info": {
   "codemirror_mode": {
    "name": "ipython",
    "version": 3
   },
   "file_extension": ".py",
   "mimetype": "text/x-python",
   "name": "python",
   "nbconvert_exporter": "python",
   "pygments_lexer": "ipython3",
   "version": "3.9.5"
  },
  "orig_nbformat": 4
 },
 "nbformat": 4,
 "nbformat_minor": 2
}
